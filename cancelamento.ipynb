{
 "cells": [
  {
   "cell_type": "code",
   "execution_count": null,
   "metadata": {},
   "outputs": [],
   "source": [
    "import pandas as pd\n",
    "\n",
    "tabela = pd.read_csv(\"cancelamentos.csv\") \n",
    "tabela = tabela.drop(\"CustomerID\", axis=1)\n",
    "display(tabela)"
   ]
  },
  {
   "cell_type": "code",
   "execution_count": null,
   "metadata": {},
   "outputs": [],
   "source": [
    "display(tabela.info())\n",
    "tabela = tabela.dropna()\n",
    "display(tabela.info())"
   ]
  },
  {
   "cell_type": "code",
   "execution_count": null,
   "metadata": {},
   "outputs": [],
   "source": [
    "display(tabela[\"cancelou\"].value_counts())\n",
    "display(tabela[\"cancelou\"].value_counts(normalize=True).map(\"{:.1%}\".format))"
   ]
  },
  {
   "cell_type": "code",
   "execution_count": null,
   "metadata": {},
   "outputs": [],
   "source": [
    "display(tabela[\"duracao_contrato\"].value_counts(normalize=True))\n",
    "display(tabela[\"duracao_contrato\"].value_counts())"
   ]
  },
  {
   "cell_type": "code",
   "execution_count": null,
   "metadata": {},
   "outputs": [],
   "source": [
    "display(tabela.groupby(\"duracao_contrato\").mean(numeric_only=True))"
   ]
  },
  {
   "cell_type": "code",
   "execution_count": null,
   "metadata": {},
   "outputs": [],
   "source": [
    "tabela = tabela[tabela[\"duracao_contrato\"]!=\"Monthly\"]\n",
    "display(tabela)\n",
    "display(tabela[\"cancelou\"].value_counts())\n",
    "display(tabela[\"cancelou\"].value_counts(normalize=True).map(\"{:.1%}\".format))"
   ]
  },
  {
   "cell_type": "code",
   "execution_count": null,
   "metadata": {},
   "outputs": [],
   "source": [
    "display(tabela[\"assinatura\"].value_counts(normalize=True))\n",
    "display(tabela.groupby(\"assinatura\").mean(numeric_only=True))"
   ]
  },
  {
   "cell_type": "code",
   "execution_count": null,
   "metadata": {},
   "outputs": [],
   "source": [
    "import plotly.express as px\n",
    "\n",
    "for coluna in tabela.columns:\n",
    "    grafico = px.histogram(tabela, x=coluna, color=\"cancelou\")\n",
    "    grafico.show()"
   ]
  },
  {
   "cell_type": "code",
   "execution_count": null,
   "metadata": {},
   "outputs": [],
   "source": [
    "tabela = tabela[tabela[\"ligacoes_callcenter\"]<5]\n",
    "tabela = tabela[tabela[\"dias_atraso\"]<=20]\n",
    "display(tabela)\n",
    "display(tabela[\"cancelou\"].value_counts())\n",
    "display(tabela[\"cancelou\"].value_counts(normalize=True).map(\"{:.1%}\".format))"
   ]
  }
 ],
 "metadata": {
  "language_info": {
   "name": "python"
  },
  "orig_nbformat": 4
 },
 "nbformat": 4,
 "nbformat_minor": 2
}
